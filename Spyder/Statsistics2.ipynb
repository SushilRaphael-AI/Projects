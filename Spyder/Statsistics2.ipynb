{
 "cells": [
  {
   "cell_type": "code",
   "execution_count": null,
   "id": "ad7632bb-0577-47a6-8378-46e1d3d0f181",
   "metadata": {
    "editable": true,
    "slideshow": {
     "slide_type": ""
    },
    "tags": []
   },
   "outputs": [],
   "source": [
    "import numpy as np\n",
    "from scipy import stats\n",
    "\n",
    "# Sample data set\n",
    "data = list(map(int,input().split()))\n",
    "\n",
    "# Calculate mean\n",
    "mean = np.mean(data)\n",
    "\n",
    "# calculate median\n",
    "median = np.median(data)\n",
    "\n",
    "# calculate mode\n",
    "mode = stats.mode(data)\n",
    "\n",
    "# calculate range\n",
    "data_range = np.ptp(data)\n",
    "\n",
    "# calculate standard deviation\n",
    "std_dev = np.std(data)\n",
    "\n",
    "# calculate variance \n",
    "variance = np.var(data)\n",
    "\n",
    "# calculate skewness\n",
    "skewness = stats.skew(data)\n",
    "\n",
    "# calculate kurtosis\n",
    "kurtosis = stats.kurtosis(data)\n",
    "\n",
    "# calculate IQR\n",
    "q75, q25 = np.percentile(data, [75,25])\n",
    "IQR = q75 - q25\n",
    "\n",
    "# print results\n",
    "print(f\"mean: {mean}\")\n",
    "print(f\"median: {median}\")\n",
    "print(f\"mode: {mode}\")\n",
    "print(f\"range: ={data_range}\")\n",
    "print(f\"standard deviation: {std_dev}\")\n",
    "print(f\"variance: {variance}\")\n",
    "print(f\"skewness: {skewness}\")\n",
    "print(f\"kurtosis: {kurtosis}\")\n",
    "print(f\"IQR: {IQR}\")"
   ]
  },
  {
   "cell_type": "code",
   "execution_count": null,
   "id": "540ecac8-b6f2-4152-af49-950d345e94c4",
   "metadata": {},
   "outputs": [],
   "source": []
  }
 ],
 "metadata": {
  "kernelspec": {
   "display_name": "anaconda-ai-2024.04-py310",
   "language": "python",
   "name": "conda-env-anaconda-ai-2024.04-py310-py"
  },
  "language_info": {
   "codemirror_mode": {
    "name": "ipython",
    "version": 3
   },
   "file_extension": ".py",
   "mimetype": "text/x-python",
   "name": "python",
   "nbconvert_exporter": "python",
   "pygments_lexer": "ipython3",
   "version": "3.10.13"
  }
 },
 "nbformat": 4,
 "nbformat_minor": 5
}
